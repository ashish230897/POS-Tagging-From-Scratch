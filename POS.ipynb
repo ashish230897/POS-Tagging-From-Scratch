{
 "cells": [
  {
   "cell_type": "code",
   "execution_count": 1,
   "id": "fad68a15",
   "metadata": {},
   "outputs": [],
   "source": [
    "import nltk\n",
    "import numpy as np\n",
    "import pandas as pd\n",
    "import matplotlib.pyplot as plt\n",
    "from collections import defaultdict\n",
    "\n",
    "from nltk.corpus import brown"
   ]
  },
  {
   "cell_type": "code",
   "execution_count": 2,
   "id": "802662a8",
   "metadata": {},
   "outputs": [
    {
     "name": "stdout",
     "output_type": "stream",
     "text": [
      "[('The', 'AT'), ('Fulton', 'NP-TL'), ...]\n"
     ]
    }
   ],
   "source": [
    "print(brown.tagged_words()) "
   ]
  },
  {
   "cell_type": "code",
   "execution_count": 3,
   "id": "4b086773",
   "metadata": {},
   "outputs": [],
   "source": [
    "# storing all the POS tags, words\n",
    "tags = defaultdict()\n",
    "words = defaultdict()\n",
    "tag_words = defaultdict()\n",
    "for tuple in brown.tagged_words(tagset='universal'):\n",
    "    tag = tuple[1]\n",
    "    word = tuple[0]\n",
    "    if tag in tags: tags[tag] += 1\n",
    "    else: tags[tag] = 1\n",
    "        \n",
    "    if word in words: words[word] += 1\n",
    "    else: words[word] = 1\n",
    "        \n",
    "    if tag in tag_words:\n",
    "        if word in tag_words[tag]: tag_words[tag][word] += 1\n",
    "        else: tag_words[tag][word] = 1\n",
    "    else:\n",
    "        tag_words[tag] = defaultdict()\n",
    "        tag_words[tag][word] = 1"
   ]
  },
  {
   "cell_type": "code",
   "execution_count": 4,
   "id": "fecbea79",
   "metadata": {},
   "outputs": [
    {
     "name": "stdout",
     "output_type": "stream",
     "text": [
      "3965\n"
     ]
    }
   ],
   "source": [
    "# checking tag_words\n",
    "word = \"this\"\n",
    "tag = \"DET\"\n",
    "if word in tag_words[tag]:\n",
    "    print(tag_words[tag][word])"
   ]
  },
  {
   "cell_type": "code",
   "execution_count": 5,
   "id": "a4886a77",
   "metadata": {
    "scrolled": true
   },
   "outputs": [
    {
     "name": "stdout",
     "output_type": "stream",
     "text": [
      "DET 137019\n",
      "NOUN 275558\n",
      "ADJ 83721\n",
      "VERB 182750\n",
      "ADP 144766\n",
      ". 147565\n",
      "ADV 56239\n",
      "CONJ 38151\n",
      "PRT 29829\n",
      "PRON 49334\n",
      "NUM 14874\n",
      "X 1386\n"
     ]
    }
   ],
   "source": [
    "# checking tags\n",
    "for key,value in tags.items():\n",
    "    print(key, value)"
   ]
  },
  {
   "cell_type": "code",
   "execution_count": 6,
   "id": "68be0229",
   "metadata": {},
   "outputs": [
    {
     "name": "stdout",
     "output_type": "stream",
     "text": [
      "The 7258\n",
      "Fulton 17\n",
      "County 85\n",
      "Grand 18\n",
      "Jury 4\n",
      "said 1943\n",
      "Friday 60\n",
      "an 3542\n",
      "investigation 43\n",
      "of 36080\n",
      "Atlanta's 4\n"
     ]
    }
   ],
   "source": [
    "count = 0\n",
    "for key,value in words.items():\n",
    "    if count > 10: break\n",
    "    count += 1\n",
    "    print(key, value)"
   ]
  },
  {
   "cell_type": "markdown",
   "id": "d1f8b992",
   "metadata": {},
   "source": [
    "## Probabilities to compute: \n",
    "    P(word|tag) = count(word,tag)/count(all words,tag) -> emission probabilities\n",
    "    P(tag1|tag2) = count(tag2,tag1)/count(tag2,tagx) -> transition probabilities\n",
    " \n"
   ]
  },
  {
   "cell_type": "markdown",
   "id": "145e9084",
   "metadata": {},
   "source": [
    "## Emission Probabilities"
   ]
  },
  {
   "cell_type": "code",
   "execution_count": 7,
   "id": "94b4b221",
   "metadata": {},
   "outputs": [],
   "source": [
    "# computing emission probabilities\n",
    "emission = defaultdict()\n",
    "for tag in tags.keys():\n",
    "    for word in words.keys():\n",
    "        \n",
    "        if tag not in emission:\n",
    "            emission[tag] = defaultdict()\n",
    "        count = 0\n",
    "        if word in tag_words[tag]: count = tag_words[tag][word]\n",
    "        emission[tag][word] = count/tags[tag]"
   ]
  },
  {
   "cell_type": "code",
   "execution_count": 8,
   "id": "d14564a3",
   "metadata": {},
   "outputs": [
    {
     "data": {
      "text/plain": [
       "0.45767375327509324"
      ]
     },
     "execution_count": 8,
     "metadata": {},
     "output_type": "execute_result"
    }
   ],
   "source": [
    "# checking probabilities\n",
    "tag = \"DET\"\n",
    "word = \"the\"\n",
    "emission[tag][word]"
   ]
  },
  {
   "cell_type": "markdown",
   "id": "c27727e7",
   "metadata": {},
   "source": [
    "## Computing bi-gram counts"
   ]
  },
  {
   "cell_type": "code",
   "execution_count": 9,
   "id": "06030bc9",
   "metadata": {},
   "outputs": [
    {
     "name": "stdout",
     "output_type": "stream",
     "text": [
      "57340\n"
     ]
    }
   ],
   "source": [
    "sents = []\n",
    "for lis in brown.tagged_sents(tagset='universal'):\n",
    "    sents.append(lis)\n",
    "\n",
    "print(len(sents))"
   ]
  },
  {
   "cell_type": "code",
   "execution_count": 10,
   "id": "1ce69abe",
   "metadata": {},
   "outputs": [
    {
     "name": "stdout",
     "output_type": "stream",
     "text": [
      "187 [('``', '.'), ('Must', 'VERB'), ('solve', 'VERB'), ('problem', 'NOUN'), (\"''\", '.')]\n",
      "655 [('The', 'DET'), ('hotel', 'NOUN'), ('owner', 'NOUN'), ('shrugged', 'VERB'), ('.', '.')]\n",
      "676 [('Formula', 'NOUN'), ('is', 'VERB'), ('due', 'ADJ'), ('this', 'DET'), ('week', 'NOUN')]\n",
      "962 [('Oak', 'NOUN'), ('Grove', 'NOUN'), ('(', '.'), ('special', 'ADJ'), (')', '.')]\n",
      "981 [('--', '.'), ('emphasizes', 'VERB'), ('the', 'DET'), ('Virgin', 'NOUN'), ('birth', 'NOUN')]\n",
      "1004 [(\"'\", '.'), ('church', 'NOUN'), ('meets', 'VERB'), ('change', 'NOUN'), (\"'\", '.')]\n",
      "1069 [('Seeks', 'VERB'), ('``', '.'), ('improved', 'VERB'), ('fielding', 'VERB'), (\"''\", '.')]\n",
      "1074 [('Duren', 'NOUN'), (',', '.'), ('Sheldon', 'NOUN'), ('on', 'ADP'), ('hill', 'NOUN')]\n",
      "1214 [('A', 'DET'), ('quick', 'ADJ'), ('touchdown', 'NOUN'), ('resulted', 'VERB'), ('.', '.')]\n",
      "1402 [('It', 'PRON'), ('made', 'VERB'), ('him', 'PRON'), ('human', 'NOUN'), ('.', '.')]\n",
      "1428 [('He', 'PRON'), ('had', 'VERB'), ('a', 'DET'), ('16', 'NUM'), ('.', '.')]\n"
     ]
    }
   ],
   "source": [
    "count = 0\n",
    "for i,sent in enumerate(sents):\n",
    "    if count > 10: break\n",
    "    if len(sent) == 5: \n",
    "        print(i, sent)\n",
    "        count += 1"
   ]
  },
  {
   "cell_type": "code",
   "execution_count": 11,
   "id": "18707287",
   "metadata": {},
   "outputs": [],
   "source": [
    "bigram = defaultdict()\n",
    "for sent in sents:\n",
    "    length = len(sent)\n",
    "    for i in range(0, length-1):\n",
    "        curr = sent[i][1]\n",
    "        next_ = sent[i+1][1]\n",
    "        bi = curr + '-' + next_\n",
    "        if bi not in bigram: bigram[bi] = 1\n",
    "        else: bigram[bi] += 1"
   ]
  },
  {
   "cell_type": "code",
   "execution_count": 12,
   "id": "d21ab032",
   "metadata": {},
   "outputs": [
    {
     "name": "stdout",
     "output_type": "stream",
     "text": [
      "4270\n",
      "275558\n"
     ]
    }
   ],
   "source": [
    "# test bi-grams\n",
    "print(bigram[\"NOUN-DET\"])\n",
    "print(tags[\"NOUN\"])"
   ]
  },
  {
   "cell_type": "code",
   "execution_count": 13,
   "id": "a5b112c8",
   "metadata": {},
   "outputs": [],
   "source": [
    "# compute bi-gram counts for starting tag and next tag\n",
    "for sent in sents:\n",
    "    start_tag = sent[0][1]\n",
    "    bi = \"^-\" + start_tag\n",
    "    if bi not in bigram: bigram[bi] = 1\n",
    "    else: bigram[bi] += 1"
   ]
  },
  {
   "cell_type": "markdown",
   "id": "dcc4e217",
   "metadata": {},
   "source": [
    "## Transition Probabilities"
   ]
  },
  {
   "cell_type": "code",
   "execution_count": 14,
   "id": "3249603c",
   "metadata": {},
   "outputs": [],
   "source": [
    "# check bi-grams of states which will be divided by count of initial state\n",
    "transition = defaultdict()\n",
    "for tag in tags.keys():\n",
    "    for tag1 in tags.keys():\n",
    "        if tag not in transition:\n",
    "            transition[tag] = defaultdict()\n",
    "        transition[tag][tag1] = bigram[tag+'-'+tag1]/tags[tag] "
   ]
  },
  {
   "cell_type": "code",
   "execution_count": 15,
   "id": "8d059a40",
   "metadata": {},
   "outputs": [],
   "source": [
    "# compute starting tag transition probability i.e P(X|^)\n",
    "transition[\"^\"] = defaultdict()\n",
    "for tag in tags.keys():\n",
    "     transition[\"^\"][tag] = bigram[\"^\"+\"-\"+tag]/len(sents)"
   ]
  },
  {
   "cell_type": "code",
   "execution_count": 16,
   "id": "52d01ed0",
   "metadata": {},
   "outputs": [
    {
     "name": "stdout",
     "output_type": "stream",
     "text": [
      "0.6264678621213117\n",
      "0.034339030345308684\n"
     ]
    }
   ],
   "source": [
    "# test transition\n",
    "print(transition[\"DET\"][\"NOUN\"])\n",
    "print(transition[\"^\"][\"ADJ\"])"
   ]
  },
  {
   "cell_type": "code",
   "execution_count": 17,
   "id": "6562296e",
   "metadata": {},
   "outputs": [
    {
     "name": "stdout",
     "output_type": "stream",
     "text": [
      "56057\n",
      "57340\n"
     ]
    }
   ],
   "source": [
    "print(len(words))\n",
    "print(len(sents))"
   ]
  },
  {
   "cell_type": "code",
   "execution_count": 23,
   "id": "ee095988",
   "metadata": {},
   "outputs": [
    {
     "name": "stdout",
     "output_type": "stream",
     "text": [
      "There should even be no more bitter surprises in the UN General Assembly as to NATO members' votes , since a new ad hoc NATO committee has been set up so that in the future such topics as Angola will be discussed in advance .  [('There', 'PRT'), ('should', 'VERB'), ('even', 'ADV'), ('be', 'VERB'), ('no', 'DET'), ('more', 'ADJ'), ('bitter', 'ADJ'), ('surprises', 'NOUN'), ('in', 'ADP'), ('the', 'DET'), ('UN', 'NOUN'), ('General', 'ADJ'), ('Assembly', 'NOUN'), ('as', 'ADP'), ('to', 'ADP'), ('NATO', 'NOUN'), (\"members'\", 'NOUN'), ('votes', 'NOUN'), (',', '.'), ('since', 'ADP'), ('a', 'DET'), ('new', 'ADJ'), ('ad', 'X'), ('hoc', 'X'), ('NATO', 'NOUN'), ('committee', 'NOUN'), ('has', 'VERB'), ('been', 'VERB'), ('set', 'VERB'), ('up', 'PRT'), ('so', 'ADP'), ('that', 'ADP'), ('in', 'ADP'), ('the', 'DET'), ('future', 'NOUN'), ('such', 'ADJ'), ('topics', 'NOUN'), ('as', 'ADP'), ('Angola', 'NOUN'), ('will', 'VERB'), ('be', 'VERB'), ('discussed', 'VERB'), ('in', 'ADP'), ('advance', 'NOUN'), ('.', '.')]\n",
      "The inclination here is to accept a de facto cease-fire in Laos , rather than continue to insist on a verification of the cease-fire by the international control commission before participating in the Geneva conference .  [('The', 'DET'), ('inclination', 'NOUN'), ('here', 'ADV'), ('is', 'VERB'), ('to', 'PRT'), ('accept', 'VERB'), ('a', 'DET'), ('de', 'X'), ('facto', 'X'), ('cease-fire', 'NOUN'), ('in', 'ADP'), ('Laos', 'NOUN'), (',', '.'), ('rather', 'ADP'), ('than', 'ADP'), ('continue', 'VERB'), ('to', 'PRT'), ('insist', 'VERB'), ('on', 'ADP'), ('a', 'DET'), ('verification', 'NOUN'), ('of', 'ADP'), ('the', 'DET'), ('cease-fire', 'NOUN'), ('by', 'ADP'), ('the', 'DET'), ('international', 'ADJ'), ('control', 'NOUN'), ('commission', 'NOUN'), ('before', 'ADP'), ('participating', 'VERB'), ('in', 'ADP'), ('the', 'DET'), ('Geneva', 'NOUN'), ('conference', 'NOUN'), ('.', '.')]\n",
      "An agreement between the leaders of four parties which contested indecisive elections on Oct. 15 was reached after almost 18 hours of political bargaining under the threat of an army coup d'etat .  [('An', 'DET'), ('agreement', 'NOUN'), ('between', 'ADP'), ('the', 'DET'), ('leaders', 'NOUN'), ('of', 'ADP'), ('four', 'NUM'), ('parties', 'NOUN'), ('which', 'DET'), ('contested', 'VERB'), ('indecisive', 'ADJ'), ('elections', 'NOUN'), ('on', 'ADP'), ('Oct.', 'NOUN'), ('15', 'NUM'), ('was', 'VERB'), ('reached', 'VERB'), ('after', 'ADP'), ('almost', 'ADV'), ('18', 'NUM'), ('hours', 'NOUN'), ('of', 'ADP'), ('political', 'ADJ'), ('bargaining', 'NOUN'), ('under', 'ADP'), ('the', 'DET'), ('threat', 'NOUN'), ('of', 'ADP'), ('an', 'DET'), ('army', 'NOUN'), ('coup', 'X'), (\"d'etat\", 'X'), ('.', '.')]\n"
     ]
    }
   ],
   "source": [
    "count = 0\n",
    "for sent in sents:\n",
    "    if count >= 3: break\n",
    "    for tup in sent:\n",
    "        if tup[1] == \"X\":\n",
    "            sentence = \"\"\n",
    "            for tupp in sent:\n",
    "                sentence += tupp[0] + \" \"\n",
    "            count += 1\n",
    "            print(sentence, sent)\n",
    "            break"
   ]
  },
  {
   "cell_type": "code",
   "execution_count": 26,
   "id": "c15ed462",
   "metadata": {},
   "outputs": [],
   "source": [
    "count = 0\n",
    "for sent in sents:\n",
    "    if count >= 3: break\n",
    "    for tup in sent:\n",
    "        if tup[0] == \"cease-fire\" and (tup[1] == \"X\"):\n",
    "            sentence = \"\"\n",
    "            for tupp in sent:\n",
    "                sentence += tupp[0] + \" \"\n",
    "            count += 1\n",
    "            print(sentence, sent)\n",
    "            break"
   ]
  },
  {
   "cell_type": "code",
   "execution_count": 18,
   "id": "1513ff08",
   "metadata": {},
   "outputs": [],
   "source": [
    "parameters = {\"tags\": tags, \"transition\": transition, \"emission\": emission, \"vocab\": words}"
   ]
  },
  {
   "cell_type": "markdown",
   "id": "a4397edf",
   "metadata": {},
   "source": [
    "## Viterbi Algo"
   ]
  },
  {
   "cell_type": "code",
   "execution_count": 25,
   "id": "10fb5944",
   "metadata": {},
   "outputs": [],
   "source": [
    "import copy\n",
    "import time"
   ]
  },
  {
   "cell_type": "code",
   "execution_count": 42,
   "id": "352ab50d",
   "metadata": {},
   "outputs": [
    {
     "name": "stdout",
     "output_type": "stream",
     "text": [
      "tokens for loop took 0.017392396926879883\n",
      "find tags takes 1.8358230590820312e-05\n",
      "overall time is  0.019480228424072266\n"
     ]
    }
   ],
   "source": [
    "class TreeNode:\n",
    "    def __init__(self, tag, prob, parent):\n",
    "        self.tag = tag\n",
    "        self.prob = prob\n",
    "        self.tags = []\n",
    "        self.parent = parent\n",
    "        \n",
    "\n",
    "class Viterbi:\n",
    "    \n",
    "    def find_tags(self, imp_nodes):\n",
    "        t1 = time.time()\n",
    "        max_node = None\n",
    "        for tag,tag_node in imp_nodes.items():\n",
    "            #print(\"tag \", tag, tag_node.prob, tag_node.tags[0].prob)\n",
    "            if max_node is None or max_node.tags[0].prob < tag_node.tags[0].prob: \n",
    "                max_node = tag_node\n",
    "      \n",
    "        tags = []\n",
    "        while(max_node is not None):\n",
    "            tags.insert(0, max_node.tag)\n",
    "            max_node = max_node.parent\n",
    "      \n",
    "        print(\"find tags takes\", time.time()-t1)\n",
    "        return tags\n",
    "      \n",
    "    def compute_states(self, sent, parameters):\n",
    "        sent = sent.strip()\n",
    "        tokens = sent.split(' ')\n",
    "      \n",
    "        root = TreeNode(\"^\", 1, None)\n",
    "        imp_nodes = defaultdict()\n",
    "      \n",
    "        # create first level of tree\n",
    "        for tag in parameters[\"tags\"].keys():\n",
    "            node = TreeNode(tag, parameters[\"transition\"][\"^\"][tag], root)\n",
    "            root.tags.append(node)\n",
    "            imp_nodes[tag] = node\n",
    "      \n",
    "      \n",
    "        temp_best = defaultdict()\n",
    "        #print(tokens)\n",
    "        t1 = time.time()\n",
    "        for i,token in enumerate(tokens):\n",
    "            temp_best = defaultdict()\n",
    "            for tag,tag_node in imp_nodes.items():\n",
    "              # compute every tag for this node\n",
    "                if i == len(tokens)-1:\n",
    "                    if token in parameters[\"vocab\"]:\n",
    "                          emission = parameters[\"emission\"][tag][token]\n",
    "                    else:\n",
    "                      emission = 0.001\n",
    "                    transition = parameters[\"transition\"][tag][\".\"]\n",
    "                    new_prob = tag_node.prob*emission*transition\n",
    "                    child = TreeNode(\".\", new_prob, tag_node)\n",
    "                    tag_node.tags.append(child)\n",
    "                else: \n",
    "                    for child_tag in parameters[\"tags\"].keys():\n",
    "                        if token in parameters[\"vocab\"]:\n",
    "                          emission = parameters[\"emission\"][tag][token]\n",
    "                        else:\n",
    "                          emission = 0.001\n",
    "                        transition = parameters[\"transition\"][tag][child_tag]\n",
    "                        new_prob = tag_node.prob*emission*transition\n",
    "                        child = TreeNode(child_tag, new_prob, tag_node)\n",
    "                        tag_node.tags.append(child)\n",
    "                        if child_tag in temp_best:\n",
    "                            if new_prob > temp_best[child_tag].prob:\n",
    "                                temp_best[child_tag] = child\n",
    "                        else:\n",
    "                            temp_best[child_tag] = child\n",
    "          \n",
    "            if i < len(tokens) - 1:\n",
    "                for tag in parameters[\"tags\"].keys(): \n",
    "                  imp_nodes[tag] = temp_best[tag]\n",
    "#                   print(\"token : \",token,\" tag: \", tag, imp_nodes[tag].prob)\n",
    "      \n",
    "        print(\"tokens for loop took\", time.time()-t1)\n",
    "        return self.find_tags(imp_nodes)\n",
    "        \n",
    "        \n",
    "\n",
    "obj = Viterbi()\n",
    "sent = \"Why thats what gave me the feeling gave me asitwere the spirit the demoniac evil spirit of this whole affair\"\n",
    "tokens = [i[0] for i in sents[450]]\n",
    "#sent = \" \".join(tokens)\n",
    "t1 = time.time()\n",
    "states = obj.compute_states(sent, parameters) \n",
    "print(\"overall time is \", time.time()-t1)"
   ]
  },
  {
   "cell_type": "code",
   "execution_count": 39,
   "id": "6ea07496",
   "metadata": {},
   "outputs": [
    {
     "data": {
      "text/plain": [
       "['^',\n",
       " 'ADV',\n",
       " 'ADP',\n",
       " 'DET',\n",
       " 'VERB',\n",
       " 'PRON',\n",
       " 'DET',\n",
       " 'NOUN',\n",
       " 'VERB',\n",
       " 'PRON',\n",
       " 'VERB',\n",
       " 'DET',\n",
       " 'NOUN',\n",
       " 'DET',\n",
       " 'ADJ',\n",
       " 'ADJ',\n",
       " 'NOUN',\n",
       " 'ADP',\n",
       " 'DET',\n",
       " 'ADJ',\n",
       " 'NOUN']"
      ]
     },
     "execution_count": 39,
     "metadata": {},
     "output_type": "execute_result"
    }
   ],
   "source": [
    "states"
   ]
  },
  {
   "cell_type": "code",
   "execution_count": null,
   "id": "ff5854f9",
   "metadata": {},
   "outputs": [],
   "source": []
  }
 ],
 "metadata": {
  "kernelspec": {
   "display_name": "Python 3 (ipykernel)",
   "language": "python",
   "name": "python3"
  },
  "language_info": {
   "codemirror_mode": {
    "name": "ipython",
    "version": 3
   },
   "file_extension": ".py",
   "mimetype": "text/x-python",
   "name": "python",
   "nbconvert_exporter": "python",
   "pygments_lexer": "ipython3",
   "version": "3.9.12"
  }
 },
 "nbformat": 4,
 "nbformat_minor": 5
}
